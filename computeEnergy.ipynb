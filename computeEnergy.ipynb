{
 "cells": [
  {
   "cell_type": "code",
   "execution_count": null,
   "metadata": {},
   "outputs": [],
   "source": [
    "%load_ext autoreload\n",
    "%autoreload 2"
   ]
  },
  {
   "cell_type": "code",
   "execution_count": null,
   "metadata": {},
   "outputs": [],
   "source": [
    "import os\n",
    "from multiprocessing import Pool, cpu_count\n",
    "\n",
    "import numpy as np\n",
    "import matplotlib.pyplot as plt\n",
    "\n",
    "from utils import read_arr_help, split_ds"
   ]
  },
  {
   "cell_type": "code",
   "execution_count": null,
   "metadata": {},
   "outputs": [],
   "source": [
    "def save_as_npz(\n",
    "    data_path: str, data_size: int, seed: int = 42, test_size: float = 0.2\n",
    ") -> None:\n",
    "    \"\"\"Read and save .dat data in a .npz file. The data retrieved are \n",
    "    the array of speckle (both real and fourier), the x axis and the output values.\n",
    "    \n",
    "    TODO: Use an input to specify the names of files to be retrieved. \n",
    "\n",
    "    Args:\n",
    "        data_path (str): Path to the files.\n",
    "        data_size (int): Size of a single array in the data.\n",
    "        seed (int, optional): Seed to retrieve pseudo-randomly training and test datasets. Defaults to 42.\n",
    "        test_size (float, optional): Size (in %) of the test set. Defaults to 0.2.\n",
    "    \"\"\"\n",
    "    paths = []\n",
    "    for file in os.listdir(data_path):\n",
    "        path = os.path.join(data_path, file)\n",
    "        if file[:4] == \"eval\":\n",
    "            # energy value is a scalar\n",
    "            paths.append((path, 1, 1))\n",
    "        elif file[:8] == \"speckleF\" or file[:8]==\"densityF\":\n",
    "            # speckleF has real and imag part\n",
    "            paths.append((path, data_size, (1, 2)))\n",
    "        else:\n",
    "            # valid for speckleR, just real\n",
    "            paths.append((path, data_size, 1))\n",
    "    print(paths)\n",
    "    # append extra vector with x axis\n",
    "    extra_paths = []\n",
    "    for path in paths:\n",
    "        filename = os.path.basename(path[0])[:-4]\n",
    "        if filename == \"speckleR\":\n",
    "            extra_paths.append((path[0], data_size, 0, \"x_axis\"))\n",
    "        elif filename == \"speckleF\":\n",
    "            extra_paths.append((path[0], data_size, 0, \"csi_axis\"))\n",
    "    print(extra_paths)\n",
    "\n",
    "    cpu = np.minimum(len(paths), cpu_count() // 2)\n",
    "    p = Pool(cpu)\n",
    "\n",
    "    # data are in the same files, so to avoid concurrent accesses the loading is split\n",
    "    data = list(p.imap(read_arr_help, paths))\n",
    "    data.extend(list(p.imap(read_arr_help, extra_paths)))\n",
    "\n",
    "    results = split_ds(data, seed=seed, test_size=test_size)\n",
    "\n",
    "    for key in results:\n",
    "        outname = key + \"_\" + os.path.basename(data_path)\n",
    "        print(\"\\nSaving {0} dataset as {1}\".format(key, outname))\n",
    "        np.savez(str(outname) + \".npz\", **{el[1][:]: el[0] for el in results[key]})\n",
    "    return"
   ]
  },
  {
   "cell_type": "code",
   "execution_count": null,
   "metadata": {},
   "outputs": [],
   "source": [
    "#save_as_npz(\"../data/data_L28\", 512)"
   ]
  },
  {
   "cell_type": "code",
   "execution_count": null,
   "metadata": {},
   "outputs": [],
   "source": [
    "data = np.load(\"dataset/train_data_L28.npz\")\n",
    "data.files"
   ]
  },
  {
   "cell_type": "code",
   "execution_count": null,
   "metadata": {},
   "outputs": [],
   "source": [
    "speckle = data['speckleR']\n",
    "\n",
    "ro = data['densityprofile']\n",
    "psi = np.sqrt(ro)\n",
    "\n",
    "x_ax = data['x_axis']\n",
    "\n",
    "energy = data['evalues']\n",
    "\n",
    "print(speckle.shape, ro.shape, x_ax.shape, energy.shape)"
   ]
  },
  {
   "cell_type": "code",
   "execution_count": null,
   "metadata": {},
   "outputs": [],
   "source": [
    "x = np.linspace(0, 28, 512)\n",
    "x[1] - x[0]"
   ]
  },
  {
   "cell_type": "code",
   "execution_count": null,
   "metadata": {},
   "outputs": [],
   "source": [
    "dx = x[1] - x[0]\n",
    "grad_psi = np.gradient(psi, x, axis=1)\n",
    "\n",
    "pred_energy = np.sum(grad_psi**2 * dx, axis=1) + np.sum(ro * speckle * dx, axis=1)\n",
    "\n",
    "print(pred_energy.shape, dx)"
   ]
  },
  {
   "cell_type": "code",
   "execution_count": null,
   "metadata": {},
   "outputs": [],
   "source": [
    "print(pred_energy[:5], energy[:5], energy[:5]/pred_energy[:5])"
   ]
  },
  {
   "cell_type": "code",
   "execution_count": null,
   "metadata": {},
   "outputs": [],
   "source": [
    "fig = plt.figure(figsize=(12,12))\n",
    "plt.scatter(pred_energy, energy)"
   ]
  },
  {
   "cell_type": "code",
   "execution_count": null,
   "metadata": {},
   "outputs": [],
   "source": [
    "grad_ro = np.gradient(ro, x, axis=1)\n",
    "\n",
    "pred_energy2 = np.sum(grad_ro**2 * dx / ro, axis=1) / 8 + np.sum(ro * speckle * dx, axis=1)"
   ]
  },
  {
   "cell_type": "code",
   "execution_count": null,
   "metadata": {},
   "outputs": [],
   "source": [
    "test_data = np.load(\"dataset/test_data_L28.npz\")\n",
    "\n",
    "speckleF = data['speckleF']\n",
    "speckleF_test = test_data['speckleF']"
   ]
  },
  {
   "cell_type": "code",
   "execution_count": null,
   "metadata": {},
   "outputs": [],
   "source": [
    "real_speckle = np.concatenate((np.real(speckleF[:,1:29]), np.real(speckleF_test[:,1:29])), axis=None) \n",
    "print(real_speckle.mean())\n",
    "imag_speckle = np.concatenate((np.imag(speckleF[:,1:29]), np.imag(speckleF_test[:,1:29])), axis=None)\n",
    "print(imag_speckle.mean())\n",
    "\n",
    "\n",
    "speckle_tot = np.append(real_speckle, imag_speckle)"
   ]
  },
  {
   "cell_type": "code",
   "execution_count": null,
   "metadata": {},
   "outputs": [],
   "source": [
    "print(np.mean(speckle_tot), np.std(speckle_tot))"
   ]
  },
  {
   "cell_type": "code",
   "execution_count": null,
   "metadata": {},
   "outputs": [],
   "source": [
    "speckleF[0,29]"
   ]
  },
  {
   "cell_type": "code",
   "execution_count": null,
   "metadata": {},
   "outputs": [],
   "source": [
    "from torch import nn"
   ]
  },
  {
   "cell_type": "code",
   "execution_count": null,
   "metadata": {},
   "outputs": [],
   "source": [
    "a = nn.ReLU()"
   ]
  },
  {
   "cell_type": "code",
   "execution_count": null,
   "metadata": {},
   "outputs": [],
   "source": []
  }
 ],
 "metadata": {
  "kernelspec": {
   "display_name": "Python 3",
   "language": "python",
   "name": "python3"
  },
  "language_info": {
   "codemirror_mode": {
    "name": "ipython",
    "version": 3
   },
   "file_extension": ".py",
   "mimetype": "text/x-python",
   "name": "python",
   "nbconvert_exporter": "python",
   "pygments_lexer": "ipython3",
   "version": "3.8.5"
  }
 },
 "nbformat": 4,
 "nbformat_minor": 4
}
